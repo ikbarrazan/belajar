{
 "cells": [
  {
   "cell_type": "code",
   "execution_count": 8,
   "id": "8b26031c",
   "metadata": {},
   "outputs": [
    {
     "name": "stdout",
     "output_type": "stream",
     "text": [
      "4\n",
      "2\n",
      "3\n",
      "124000\n",
      "99200\n"
     ]
    }
   ],
   "source": [
    "G = input()\n",
    "U = input()\n",
    "S = input()\n",
    "\n",
    "Harga = int(G)*15000 + int(U)*14000 + int(S)*12000\n",
    "print(Harga)\n",
    "Harga_Dis = Harga - int(Harga*20/100)\n",
    "print(Harga_Dis)"
   ]
  },
  {
   "cell_type": "code",
   "execution_count": 1,
   "id": "ca739c87",
   "metadata": {},
   "outputs": [
    {
     "name": "stdout",
     "output_type": "stream",
     "text": [
      "IkbarRazan\n",
      "ikbar_razan\n"
     ]
    }
   ],
   "source": [
    "def camel_to_snake(s):\n",
    "    return ''.join(['_'+c.lower() if c.isupper() else c for c in s]).lstrip('_')\n",
    "\n",
    "name = input()\n",
    "s = camel_to_snake(name)\n",
    "print(s)"
   ]
  },
  {
   "cell_type": "code",
   "execution_count": 12,
   "id": "258458fa",
   "metadata": {
    "scrolled": true
   },
   "outputs": [
    {
     "name": "stdout",
     "output_type": "stream",
     "text": [
      "[[1, 2], [3, 4], [5, 6]]\n",
      "[[5, 3, 1], [6, 4, 2]]\n",
      "5 3 1\n",
      "6 4 2\n"
     ]
    }
   ],
   "source": [
    "# Membaca input ukuran matriks\n",
    "rows, cols = map(int, input().split())\n",
    "\n",
    "# Membaca input elemen-elemen matriks dan menyusunnya ke dalam array 2D\n",
    "matrix = []\n",
    "for _ in range(rows):\n",
    "    row = list(map(int, input().split()))\n",
    "    matrix.append(row)\n",
    "\n",
    "# Melakukan rotasi 90 derajat terhadap array\n",
    "rotated_matrix = []\n",
    "for j in range(cols):\n",
    "    rotated_row = []\n",
    "    for i in range(rows - 1, -1, -1):\n",
    "        rotated_row.append(matrix[i][j])\n",
    "    rotated_matrix.append(rotated_row)\n",
    "\n",
    "# Mencetak hasil rotasi array\n",
    "print(matrix)\n",
    "print(rotated_matrix)\n",
    "for row in rotated_matrix:\n",
    "    print(' '.join(map(str, row)))"
   ]
  },
  {
   "cell_type": "code",
   "execution_count": 6,
   "id": "fbbd0d9e",
   "metadata": {},
   "outputs": [
    {
     "name": "stdout",
     "output_type": "stream",
     "text": [
      "<map object at 0x000001C34F50F310>\n"
     ]
    }
   ],
   "source": []
  },
  {
   "cell_type": "code",
   "execution_count": 16,
   "id": "2598e5ec",
   "metadata": {},
   "outputs": [
    {
     "name": "stdout",
     "output_type": "stream",
     "text": [
      "1\n",
      "2251506031 TV2 08:00\n",
      "+--------+------------+------------+------------+\n",
      "| Jadwal |     TV1    |     TV2    |     TV3    |\n",
      "+--------+------------+------------+------------+\n",
      "| 07:00  |            |            |            |\n",
      "| 08:00  |            | 2251506031 |            |\n",
      "| 09:00  |            |            |            |\n",
      "+--------+------------+------------+------------+\n"
     ]
    }
   ],
   "source": [
    "def print_schedule(timeslots, schedule):\n",
    "    print(\"+--------+------------+------------+------------+\")\n",
    "    print(\"| Jadwal |     TV1    |     TV2    |     TV3    |\")\n",
    "    print(\"+--------+------------+------------+------------+\")\n",
    "    for i, time_slot in enumerate(timeslots):\n",
    "        print(\"| {:<6} | {:<10} | {:<10} | {:<10} |\".format(time_slot, schedule[i][0], schedule[i][1], schedule[i][2]))\n",
    "    print(\"+--------+------------+------------+------------+\")\n",
    "\n",
    "def book_schedule(schedule, student_id, tv, time):\n",
    "    row = {\"07:00\": 0, \"08:00\": 1, \"09:00\": 2}\n",
    "    col = {\"TV1\": 0, \"TV2\": 1, \"TV3\": 2}\n",
    "\n",
    "    if schedule[row[time]][col[tv]] == \"\":\n",
    "        schedule[row[time]][col[tv]] = student_id\n",
    "    elif student_id[2:] == \"515\":\n",
    "        schedule[row[time]][col[tv]] = student_id\n",
    "\n",
    "n = int(input())\n",
    "schedule = [[\"\" for _ in range(3)] for _ in range(3)]\n",
    "timeslots = [\"07:00\", \"08:00\", \"09:00\"]\n",
    "\n",
    "for _ in range(n):\n",
    "    identity, tv, time = input().split()\n",
    "    book_schedule(schedule, identity, tv, time)\n",
    "\n",
    "print_schedule(timeslots, schedule)"
   ]
  },
  {
   "cell_type": "code",
   "execution_count": 17,
   "id": "945b4de8",
   "metadata": {},
   "outputs": [
    {
     "name": "stdout",
     "output_type": "stream",
     "text": [
      "Frontend : Budi\n",
      "Backend : Dengklek\n"
     ]
    }
   ],
   "source": [
    "# Mendefinisikan poin untuk setiap kemampuan\n",
    "frontend_points = {\"Typescript\": 10, \"Nextjs\": 20, \"Tailwind\": 15}\n",
    "backend_points = {\"Linux\": 20, \"Golang\": 17, \"PostgreSQL\": 10}\n",
    "common_points = {\"Git\": 3, \"Docker\": 6, \"SQL\": 5}\n",
    "\n",
    "# Membaca jumlah pelamar\n",
    "num_applicants = int(input())\n",
    "\n",
    "# Inisialisasi variabel untuk menyimpan pelamar yang lolos seleksi\n",
    "frontend_selected = None\n",
    "backend_selected = None\n",
    "max_frontend_points = -1\n",
    "max_backend_points = -1\n",
    "\n",
    "# Membaca data pelamar dan menghitung total poin\n",
    "for _ in range(num_applicants):\n",
    "    name = input()\n",
    "    skills = input().split()\n",
    "\n",
    "    frontend_points_total = sum(frontend_points.get(skill, 0) for skill in skills)\n",
    "    backend_points_total = sum(backend_points.get(skill, 0) for skill in skills)\n",
    "    common_points_total = sum(common_points.get(skill, 0) for skill in skills)\n",
    "\n",
    "    frontend_points_total += common_points_total\n",
    "    backend_points_total += common_points_total\n",
    "\n",
    "    # Memeriksa apakah pelamar memiliki poin maksimum untuk frontend\n",
    "    if frontend_points_total > max_frontend_points:\n",
    "        max_frontend_points = frontend_points_total\n",
    "        frontend_selected = name\n",
    "\n",
    "    # Memeriksa apakah pelamar memiliki poin maksimum untuk backend\n",
    "    if backend_points_total > max_backend_points:\n",
    "        max_backend_points = backend_points_total\n",
    "        backend_selected = name\n",
    "\n",
    "# Menampilkan hasil seleksi\n",
    "print(\"Frontend :\", frontend_selected)\n",
    "print(\"Backend :\", backend_selected)"
   ]
  }
 ],
 "metadata": {
  "kernelspec": {
   "display_name": "Python 3 (ipykernel)",
   "language": "python",
   "name": "python3"
  },
  "language_info": {
   "codemirror_mode": {
    "name": "ipython",
    "version": 3
   },
   "file_extension": ".py",
   "mimetype": "text/x-python",
   "name": "python",
   "nbconvert_exporter": "python",
   "pygments_lexer": "ipython3",
   "version": "3.11.4"
  }
 },
 "nbformat": 4,
 "nbformat_minor": 5
}
